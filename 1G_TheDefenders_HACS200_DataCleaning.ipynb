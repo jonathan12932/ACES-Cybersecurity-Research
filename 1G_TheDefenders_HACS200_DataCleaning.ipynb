{
  "nbformat": 4,
  "nbformat_minor": 0,
  "metadata": {
    "colab": {
      "provenance": [],
      "include_colab_link": true
    },
    "kernelspec": {
      "name": "python3",
      "display_name": "Python 3"
    },
    "language_info": {
      "name": "python"
    }
  },
  "cells": [
    {
      "cell_type": "markdown",
      "metadata": {
        "id": "view-in-github",
        "colab_type": "text"
      },
      "source": [
        "<a href=\"https://colab.research.google.com/github/jonathan12932/ACES-Cybersecurity-Research/blob/main/1G_TheDefenders_HACS200_DataCleaning.ipynb\" target=\"_parent\"><img src=\"https://colab.research.google.com/assets/colab-badge.svg\" alt=\"Open In Colab\"/></a>"
      ]
    },
    {
      "cell_type": "markdown",
      "source": [
        "# Import Libraries"
      ],
      "metadata": {
        "id": "MxJ8OdVqMo05"
      }
    },
    {
      "cell_type": "code",
      "source": [
        "import os\n",
        "import zipfile\n",
        "import re\n",
        "from datetime import datetime\n",
        "\n",
        "import pandas as pd\n",
        "import numpy as np\n",
        "import scipy as sp\n",
        "import matplotlib.pyplot as plt\n",
        "import plotly.express as px"
      ],
      "metadata": {
        "id": "aeDLuZf-MpXu"
      },
      "execution_count": null,
      "outputs": []
    },
    {
      "cell_type": "markdown",
      "source": [
        "# Import Logs"
      ],
      "metadata": {
        "id": "a9BVXDVJ69LJ"
      }
    },
    {
      "cell_type": "markdown",
      "source": [
        "Link your google drive to the colab."
      ],
      "metadata": {
        "id": "MPjwuhCZE6RW"
      }
    },
    {
      "cell_type": "code",
      "source": [
        "from google.colab import drive\n",
        "drive.mount('/content/drive')"
      ],
      "metadata": {
        "colab": {
          "base_uri": "https://localhost:8080/"
        },
        "id": "-qJKhvDjEzOW",
        "outputId": "5df56b78-d805-4b83-a812-20446fbb3cf4"
      },
      "execution_count": null,
      "outputs": [
        {
          "output_type": "stream",
          "name": "stdout",
          "text": [
            "Mounted at /content/drive\n"
          ]
        }
      ]
    },
    {
      "cell_type": "markdown",
      "source": [
        "## Import Manually"
      ],
      "metadata": {
        "id": "j67t6lhnElXo"
      }
    },
    {
      "cell_type": "markdown",
      "source": [
        "Use the following command in your personal terminal to get new data from honeypots.\n",
        "\n",
        "```\n",
        "scp -r -P 48746 student@jump.aces.umd.edu:/home/all_zips/ /path/to/your/dir/\n",
        "```"
      ],
      "metadata": {
        "id": "VCg1QzCLCpu9"
      }
    },
    {
      "cell_type": "markdown",
      "source": [
        "Upload the zip file from honeypots to your google drive and proceed to the next section."
      ],
      "metadata": {
        "id": "QrOTF7FkY7ql"
      }
    },
    {
      "cell_type": "markdown",
      "source": [
        "## Import Automatically (TBD)"
      ],
      "metadata": {
        "id": "xlKtvS8EEpdl"
      }
    },
    {
      "cell_type": "markdown",
      "source": [
        "NEW! Get files directly from Honeypots (NOT WORKING AT ALL 🔥🔥🔥)"
      ],
      "metadata": {
        "id": "elSp3IuL66Dl"
      }
    },
    {
      "cell_type": "code",
      "source": [],
      "metadata": {
        "id": "cI-TLh1PodQ3"
      },
      "execution_count": null,
      "outputs": []
    },
    {
      "cell_type": "markdown",
      "source": [
        "# Unzip Logs (Optional)"
      ],
      "metadata": {
        "id": "2Rg6HOurMiZb"
      }
    },
    {
      "cell_type": "markdown",
      "source": [
        "Only for checking the logs manually\n",
        "\n",
        "DO NOT RUN!"
      ],
      "metadata": {
        "id": "wgK0nhyrbMLw"
      }
    },
    {
      "cell_type": "code",
      "source": [
        "# The directory containing your zip files\n",
        "# Uncomment the 2 directories below to run this code without errors\n",
        "# zip_directory = '/content/drive/MyDrive/all_zips'\n",
        "# unzip_directory = '/content/drive/MyDrive/all_zips_unzipped'\n",
        "\n",
        "# Loop through all files in the specified directory\n",
        "for filename in os.listdir(zip_directory):\n",
        "    # Check if the file is a zip file\n",
        "    if filename.endswith('.zip'):\n",
        "        # Full path to the zip file\n",
        "        zip_path = os.path.join(zip_directory, filename)\n",
        "\n",
        "        # Name for the subdirectory to unzip into, based on the zip file name\n",
        "        output_folder = os.path.join(unzip_directory, filename.replace('.zip', ''))\n",
        "        os.makedirs(output_folder, exist_ok=True)\n",
        "\n",
        "        # Unzip the file\n",
        "        with zipfile.ZipFile(zip_path, 'r') as zip_ref:\n",
        "            zip_ref.extractall(output_folder)\n",
        "        print(f\"Unzipped {filename} into {output_folder}\")\n"
      ],
      "metadata": {
        "id": "esIeAJ9SY27e",
        "collapsed": true,
        "colab": {
          "base_uri": "https://localhost:8080/",
          "height": 207
        },
        "outputId": "5a480273-8d2b-4a61-f1ae-e100cd32996f"
      },
      "execution_count": null,
      "outputs": [
        {
          "output_type": "error",
          "ename": "NameError",
          "evalue": "name 'unzip_directory' is not defined",
          "traceback": [
            "\u001b[0;31m---------------------------------------------------------------------------\u001b[0m",
            "\u001b[0;31mNameError\u001b[0m                                 Traceback (most recent call last)",
            "\u001b[0;32m<ipython-input-7-e881d7a80812>\u001b[0m in \u001b[0;36m<cell line: 7>\u001b[0;34m()\u001b[0m\n\u001b[1;32m     12\u001b[0m \u001b[0;34m\u001b[0m\u001b[0m\n\u001b[1;32m     13\u001b[0m         \u001b[0;31m# Name for the subdirectory to unzip into, based on the zip file name\u001b[0m\u001b[0;34m\u001b[0m\u001b[0;34m\u001b[0m\u001b[0m\n\u001b[0;32m---> 14\u001b[0;31m         \u001b[0moutput_folder\u001b[0m \u001b[0;34m=\u001b[0m \u001b[0mos\u001b[0m\u001b[0;34m.\u001b[0m\u001b[0mpath\u001b[0m\u001b[0;34m.\u001b[0m\u001b[0mjoin\u001b[0m\u001b[0;34m(\u001b[0m\u001b[0munzip_directory\u001b[0m\u001b[0;34m,\u001b[0m \u001b[0mfilename\u001b[0m\u001b[0;34m.\u001b[0m\u001b[0mreplace\u001b[0m\u001b[0;34m(\u001b[0m\u001b[0;34m'.zip'\u001b[0m\u001b[0;34m,\u001b[0m \u001b[0;34m''\u001b[0m\u001b[0;34m)\u001b[0m\u001b[0;34m)\u001b[0m\u001b[0;34m\u001b[0m\u001b[0;34m\u001b[0m\u001b[0m\n\u001b[0m\u001b[1;32m     15\u001b[0m         \u001b[0mos\u001b[0m\u001b[0;34m.\u001b[0m\u001b[0mmakedirs\u001b[0m\u001b[0;34m(\u001b[0m\u001b[0moutput_folder\u001b[0m\u001b[0;34m,\u001b[0m \u001b[0mexist_ok\u001b[0m\u001b[0;34m=\u001b[0m\u001b[0;32mTrue\u001b[0m\u001b[0;34m)\u001b[0m\u001b[0;34m\u001b[0m\u001b[0;34m\u001b[0m\u001b[0m\n\u001b[1;32m     16\u001b[0m \u001b[0;34m\u001b[0m\u001b[0m\n",
            "\u001b[0;31mNameError\u001b[0m: name 'unzip_directory' is not defined"
          ]
        }
      ]
    },
    {
      "cell_type": "markdown",
      "source": [
        "# Parse Logs"
      ],
      "metadata": {
        "id": "GxdnCI2tM1-v"
      }
    },
    {
      "cell_type": "markdown",
      "source": [
        "Parse the log files and turn them into more readable csv files containing all necessary data.\n",
        "\n",
        "---\n",
        "\n",
        "To parse your own data just replace the \"/content/drive/MyDrive/y2s2/HACS200/\" part of every dir with the path to your all_zips folder. (see zip_directories)\n",
        "\n",
        "ex. \"/content/drive/MyDrive/all_zips/20241027_171843_zips/ExternalIP_2_zips\"\n",
        "\n",
        "(If you directly dropped all_zips into your google drive without putting it into any folders use this prefix)"
      ],
      "metadata": {
        "id": "i8cXpDrfHIlF"
      }
    },
    {
      "cell_type": "code",
      "source": [
        "# The directory containing your zip files and end location of csv\n",
        "zip_directories = [\"/content/drive/MyDrive/y2s2/HACS200/all_zips/20241027_171843_zips/ExternalIP_2_zips\",\n",
        "                   \"/content/drive/MyDrive/y2s2/HACS200/all_zips/20241028_230012_zips/ExternalIP_2_zips\",\n",
        "                   \"/content/drive/MyDrive/y2s2/HACS200/all_zips/ExternalIP_1\",\n",
        "                   \"/content/drive/MyDrive/y2s2/HACS200/all_zips/ExternalIP_2\",\n",
        "                   \"/content/drive/MyDrive/y2s2/HACS200/all_zips/ExternalIP_3\",\n",
        "                   \"/content/drive/MyDrive/y2s2/HACS200/all_zips/ExternalIP_4\",\n",
        "                   \"/content/drive/MyDrive/y2s2/HACS200/all_zips/ExternalIP_5\"]\n",
        "csv_directory = '/content/drive/MyDrive/y2s2/HACS200/data_csvs'\n",
        "\n",
        "# Add more cols for keystrokes later !!!!!!!!!\n",
        "fields_ui = [\"HPt #\", \"Pwd Str\", \"Atk #\", \"Login\", \"IP In\", \"ID In\", \"Logout\", \"IP Out\", \"ID Out\", \"Auth #\", \"Auth Start\", \"Auth End\", \"Auth IP\", \"Cmd #\"]\n",
        "df_ui = pd.DataFrame(columns=fields_ui)\n",
        "# Function to parse a directory of zipped log files\n",
        "def parse(zip_directory, df_ui, fields_ui):\n",
        "  # Loop through all files in the specified directory\n",
        "  for filename in os.listdir(zip_directory):\n",
        "      # Check if the file is a zip file\n",
        "      if filename.endswith('.zip'):\n",
        "          # Full path to the zip file\n",
        "          zip_path = os.path.join(zip_directory, filename)\n",
        "          # Unzip the zip file as 'arc'\n",
        "          with zipfile.ZipFile(zip_path, 'r') as arc:\n",
        "            # Get one attacker instance to add to dataframe\n",
        "            for file in arc.namelist():\n",
        "              if file.startswith(\"logins/honeypot\"):\n",
        "                # Chop off the 'logins/' part of the path to get file's name\n",
        "                file = file[7:]\n",
        "                # Initialize a new row for the dataframe\n",
        "                new_row = [\"HPt # NoV\", \"Pwd Str NoV\", \"Atk # NoV\", \"Login NoV\",\n",
        "                          \"IP In NoV\", \"ID In NoV\", \"Logout NoV\", \"IP Out NoV\",\n",
        "                          \"ID Out NoV\", \"Auth # NoV\", \"Auth Start NoV\",\n",
        "                          \"Auth End NoV\", \"Auth IP NoV\", \"Cmd # NoV\"]\n",
        "                # Set honeypot number – what honeypot attacker came from\n",
        "                new_row[0] = file[8]\n",
        "                # Set attacker id number – maybe be duplicates\n",
        "                new_row[1] = file.split(\"_\")[1]\n",
        "                # Set password strength – independent variable\n",
        "                new_row[2] = file.split(\"_\")[-1].split(\".\")[0]\n",
        "\n",
        "                # Turn the login and logout files into a readable format\n",
        "                login = arc.open(\"logins/\"+file)\n",
        "                logout = arc.open(\"logouts/\"+file)\n",
        "                login_data = login.read().decode('utf-8').strip()\n",
        "                logout_data = logout.read().decode('utf-8').strip()\n",
        "                # Check if both a login and logout was recorded\n",
        "                if len(login_data) > 0 and len(logout_data) > 0:\n",
        "                  # Get only first logging attempt (Prevents duplicate logging)\n",
        "                  login_data = login_data.splitlines()[0]\n",
        "                  logout_data = logout_data.splitlines()[-1]\n",
        "\n",
        "                  # Both login and logout IP and ID should be the same\n",
        "                  # Set all login file associated data\n",
        "                  new_row[3] = login_data.split(\";\")[0]\n",
        "                  new_row[4] = login_data.split(\";\")[1]\n",
        "                  new_row[5] = login_data.split(\";\")[2]\n",
        "                  # Set all logout file associated data\n",
        "                  new_row[6] = logout_data.split(\";\")[0]\n",
        "                  new_row[7] = logout_data.split(\";\")[1]\n",
        "                  new_row[8] = logout_data.split(\";\")[2]\n",
        "\n",
        "                  # Get # of cmds\n",
        "                  if \"keystrokes/\"+login_data.split(\";\")[2]+\".log\" in arc.namelist():\n",
        "                    kstrs = arc.open(\"keystrokes/\"+login_data.split(\";\")[2]+\".log\")\n",
        "                    kstrs_data = kstrs.read().decode('utf-8').strip()\n",
        "                    kstrs_data_lines = kstrs_data.splitlines()\n",
        "                    # Noninteractive and interactive regex patterns\n",
        "                    #\n",
        "                    # THIS MAY NOT BE RIGHT!!!\n",
        "                    # CHANGELOG 1: Added additional cmd check for semicolons\n",
        "                    # Add check for escaped semicolons?\n",
        "                    #\n",
        "                    noninteractive_pattern = r'^\\d{4}-\\d{2}-\\d{2} \\d{2}:\\d{2}:\\d{2}\\.\\d+ \\[Noninteractive Mode\\]'\n",
        "                    interactive_pattern = r'^\\d{4}-\\d{2}-\\d{2} \\d{2}:\\d{2}:\\d{2}\\.\\d+ \\[Full Line Parsed\\]'\n",
        "                    cn = 0\n",
        "                    for line in kstrs_data_lines:\n",
        "                      # Check if the line matches either a noninteractive or interactive command pattern\n",
        "                      if re.match(noninteractive_pattern, line) or re.match(interactive_pattern, line):\n",
        "                        # Check if any trailing or duplicate semicolons\n",
        "                        cmds = [cmd for cmd in line.split(\";\") if cmd.strip()]\n",
        "                        # Register each command separately\n",
        "                        cn += len(cmds)\n",
        "                    # Set the number of commands run\n",
        "                    new_row[13] = cn\n",
        "                  else:\n",
        "                    new_row[13] = \"NA\"\n",
        "\n",
        "                # If no login/logout exists then set all associated values to \"NA\"\n",
        "                else:\n",
        "                  new_row[3] = \"NA\"\n",
        "                  new_row[4] = \"NA\"\n",
        "                  new_row[5] = \"NA\"\n",
        "                  new_row[6] = \"NA\"\n",
        "                  new_row[7] = \"NA\"\n",
        "                  new_row[8] = \"NA\"\n",
        "                  new_row[13] = \"NA\"\n",
        "\n",
        "                if \"authentication_attempts/\"+file in arc.namelist():\n",
        "                  # Turn the auth file into a readable format\n",
        "                  auth = arc.open(\"authentication_attempts/\"+file)\n",
        "                  auth_data = auth.read().decode('utf-8').strip()\n",
        "                  auth_data_lines = auth_data.splitlines()\n",
        "                  # Set the number of auth attempts\n",
        "                  new_row[9] = len(auth_data_lines)\n",
        "                  # Check if there were any auth attempts\n",
        "                  if len(auth_data_lines) > 0:\n",
        "                    # Set the auth start time\n",
        "                    new_row[10] = auth_data_lines[0].split(\";\")[0]\n",
        "                    # Set the auth end time\n",
        "                    new_row[11] = auth_data_lines[-1].split(\";\")[0]\n",
        "                    # Set the auth IP\n",
        "                    new_row[12] = auth_data_lines[-1].split(\";\")[1]\n",
        "                  # If no auth attempts then set acssociated values to \"NA\"\n",
        "                  else:\n",
        "                    new_row[10] = \"NA\"\n",
        "                    new_row[11] = \"NA\"\n",
        "                    new_row[12] = \"NA\"\n",
        "                else:\n",
        "                  new_row[10] = \"NA\"\n",
        "                  new_row[11] = \"NA\"\n",
        "                  new_row[12] = \"NA\"\n",
        "\n",
        "                # Update existing dataframe with new data\n",
        "                df_row = pd.DataFrame([new_row], columns=fields_ui)\n",
        "                df_ui = pd.concat([df_ui, df_row])\n",
        "      # break (for testing)\n",
        "  return df_ui\n",
        "\n",
        "\n",
        "for zip_directory in zip_directories:\n",
        "  df_ui = parse(zip_directory, df_ui, fields_ui)\n",
        "print(len(df_ui))\n",
        "print(df_ui)\n",
        "\n",
        "# Save parsed data to drive\n",
        "df_ui.to_csv(os.path.join(csv_directory, \"parsed.csv\"), index=False)"
      ],
      "metadata": {
        "colab": {
          "base_uri": "https://localhost:8080/"
        },
        "id": "ERUlJkVXdIwd",
        "outputId": "053dabae-4db8-485c-c232-1048fbf3e21b"
      },
      "execution_count": null,
      "outputs": [
        {
          "output_type": "stream",
          "name": "stdout",
          "text": [
            "24097\n",
            "   HPt # Pwd Str Atk #                    Login          IP In  \\\n",
            "0      2  Medium   452  2024-10-26 20:03:52.066  152.42.139.72   \n",
            "0      2    Weak   455  2024-10-26 20:15:54.221  152.42.139.72   \n",
            "0      2    Weak   453  2024-10-26 20:06:00.813  152.42.250.74   \n",
            "0      2    None   458  2024-10-26 20:24:09.789  152.42.250.74   \n",
            "0      2    High   457  2024-10-26 20:21:55.140  152.42.139.72   \n",
            "..   ...     ...   ...                      ...            ...   \n",
            "0      5    Weak  3040                       NA             NA   \n",
            "0      5  Medium  2936                       NA             NA   \n",
            "0      5  Medium  2957                       NA             NA   \n",
            "0      5    Weak  2841                       NA             NA   \n",
            "0      5    None  2862  2024-11-23 22:13:35.433  180.153.91.15   \n",
            "\n",
            "                      ID In                   Logout         IP Out  \\\n",
            "0   2024_10_26_20_03_52_066  2024-10-26 20:03:52.809  152.42.139.72   \n",
            "0   2024_10_26_20_15_54_221  2024-10-26 20:15:54.970  152.42.139.72   \n",
            "0   2024_10_26_20_06_00_813  2024-10-26 20:06:02.732  152.42.250.74   \n",
            "0   2024_10_26_20_24_09_789  2024-10-26 20:24:11.722  152.42.250.74   \n",
            "0   2024_10_26_20_21_55_140  2024-10-26 20:21:55.903  152.42.139.72   \n",
            "..                      ...                      ...            ...   \n",
            "0                        NA                       NA             NA   \n",
            "0                        NA                       NA             NA   \n",
            "0                        NA                       NA             NA   \n",
            "0                        NA                       NA             NA   \n",
            "0   2024_11_23_22_13_35_433  2024-11-23 22:13:44.382  180.153.91.15   \n",
            "\n",
            "                     ID Out Auth #               Auth Start  \\\n",
            "0   2024_10_26_20_03_52_066      1  2024-10-26 20:03:51.713   \n",
            "0   2024_10_26_20_15_54_221      1  2024-10-26 20:15:54.030   \n",
            "0   2024_10_26_20_06_00_813      1  2024-10-26 20:06:00.600   \n",
            "0   2024_10_26_20_24_09_789      1  2024-10-26 20:24:09.572   \n",
            "0   2024_10_26_20_21_55_140      1  2024-10-26 20:21:54.943   \n",
            "..                      ...    ...                      ...   \n",
            "0                        NA      2  2024-11-24 16:17:52.478   \n",
            "0                        NA      2  2024-11-24 05:54:41.314   \n",
            "0                        NA      2  2024-11-24 08:28:25.931   \n",
            "0                        NA      3  2024-11-23 18:38:13.727   \n",
            "0   2024_11_23_22_13_35_433      3  2024-11-23 22:13:35.126   \n",
            "\n",
            "                   Auth End        Auth IP Cmd #  \n",
            "0   2024-10-26 20:03:51.713  152.42.139.72     1  \n",
            "0   2024-10-26 20:15:54.030  152.42.139.72     1  \n",
            "0   2024-10-26 20:06:00.600  152.42.250.74     1  \n",
            "0   2024-10-26 20:24:09.572  152.42.250.74     1  \n",
            "0   2024-10-26 20:21:54.943  152.42.139.72     1  \n",
            "..                      ...            ...   ...  \n",
            "0   2024-11-24 16:21:28.050  170.64.153.46    NA  \n",
            "0   2024-11-24 05:58:18.783  170.64.153.46    NA  \n",
            "0   2024-11-24 08:32:02.846  170.64.153.46    NA  \n",
            "0   2024-11-23 18:42:54.132  210.164.66.48    NA  \n",
            "0   2024-11-23 22:13:43.502  180.153.91.15     3  \n",
            "\n",
            "[24097 rows x 14 columns]\n"
          ]
        }
      ]
    },
    {
      "cell_type": "markdown",
      "source": [
        "Get a new dataframe for the commands. (SFJA)"
      ],
      "metadata": {
        "id": "m0sKtPP7k5cJ"
      }
    },
    {
      "cell_type": "code",
      "source": [
        "# Get only valid commands into a new dataframe\n",
        "df_ci = df_ui.copy()\n",
        "df_ci[\"Cmd #\"] = pd.to_numeric(df_ci[\"Cmd #\"], errors='coerce')\n",
        "df_ci = df_ci.dropna(subset=[\"Cmd #\"])\n",
        "df_ci = df_ci.loc[:, [\"ID In\", \"Cmd #\"]]\n",
        "df_ci = df_ci.rename(columns={\"ID In\": \"ID\"})\n",
        "df_ci.drop_duplicates(subset=[\"ID\"], inplace=True)\n",
        "df_ci.set_index(\"ID\", inplace=True)\n",
        "print(len(df_ci))\n",
        "df_ci"
      ],
      "metadata": {
        "colab": {
          "base_uri": "https://localhost:8080/",
          "height": 467
        },
        "id": "S0XD7Iqvk41G",
        "outputId": "38bacc7a-47e4-4354-e9fe-1b26cd20ac13"
      },
      "execution_count": null,
      "outputs": [
        {
          "output_type": "stream",
          "name": "stdout",
          "text": [
            "17505\n"
          ]
        },
        {
          "output_type": "execute_result",
          "data": {
            "text/plain": [
              "                         Cmd #\n",
              "ID                            \n",
              "2024_10_26_20_03_52_066    1.0\n",
              "2024_10_26_20_15_54_221    1.0\n",
              "2024_10_26_20_06_00_813    1.0\n",
              "2024_10_26_20_24_09_789    1.0\n",
              "2024_10_26_20_21_55_140    1.0\n",
              "...                        ...\n",
              "2024_11_24_05_28_32_041    3.0\n",
              "2024_11_24_15_59_32_923    3.0\n",
              "2024_11_24_02_06_21_978    3.0\n",
              "2024_11_24_02_23_42_266    3.0\n",
              "2024_11_23_22_13_35_433    3.0\n",
              "\n",
              "[17505 rows x 1 columns]"
            ],
            "text/html": [
              "\n",
              "  <div id=\"df-77cc2fdc-4b48-427d-9c45-107c4d0c6b7c\" class=\"colab-df-container\">\n",
              "    <div>\n",
              "<style scoped>\n",
              "    .dataframe tbody tr th:only-of-type {\n",
              "        vertical-align: middle;\n",
              "    }\n",
              "\n",
              "    .dataframe tbody tr th {\n",
              "        vertical-align: top;\n",
              "    }\n",
              "\n",
              "    .dataframe thead th {\n",
              "        text-align: right;\n",
              "    }\n",
              "</style>\n",
              "<table border=\"1\" class=\"dataframe\">\n",
              "  <thead>\n",
              "    <tr style=\"text-align: right;\">\n",
              "      <th></th>\n",
              "      <th>Cmd #</th>\n",
              "    </tr>\n",
              "    <tr>\n",
              "      <th>ID</th>\n",
              "      <th></th>\n",
              "    </tr>\n",
              "  </thead>\n",
              "  <tbody>\n",
              "    <tr>\n",
              "      <th>2024_10_26_20_03_52_066</th>\n",
              "      <td>1.0</td>\n",
              "    </tr>\n",
              "    <tr>\n",
              "      <th>2024_10_26_20_15_54_221</th>\n",
              "      <td>1.0</td>\n",
              "    </tr>\n",
              "    <tr>\n",
              "      <th>2024_10_26_20_06_00_813</th>\n",
              "      <td>1.0</td>\n",
              "    </tr>\n",
              "    <tr>\n",
              "      <th>2024_10_26_20_24_09_789</th>\n",
              "      <td>1.0</td>\n",
              "    </tr>\n",
              "    <tr>\n",
              "      <th>2024_10_26_20_21_55_140</th>\n",
              "      <td>1.0</td>\n",
              "    </tr>\n",
              "    <tr>\n",
              "      <th>...</th>\n",
              "      <td>...</td>\n",
              "    </tr>\n",
              "    <tr>\n",
              "      <th>2024_11_24_05_28_32_041</th>\n",
              "      <td>3.0</td>\n",
              "    </tr>\n",
              "    <tr>\n",
              "      <th>2024_11_24_15_59_32_923</th>\n",
              "      <td>3.0</td>\n",
              "    </tr>\n",
              "    <tr>\n",
              "      <th>2024_11_24_02_06_21_978</th>\n",
              "      <td>3.0</td>\n",
              "    </tr>\n",
              "    <tr>\n",
              "      <th>2024_11_24_02_23_42_266</th>\n",
              "      <td>3.0</td>\n",
              "    </tr>\n",
              "    <tr>\n",
              "      <th>2024_11_23_22_13_35_433</th>\n",
              "      <td>3.0</td>\n",
              "    </tr>\n",
              "  </tbody>\n",
              "</table>\n",
              "<p>17505 rows × 1 columns</p>\n",
              "</div>\n",
              "    <div class=\"colab-df-buttons\">\n",
              "\n",
              "  <div class=\"colab-df-container\">\n",
              "    <button class=\"colab-df-convert\" onclick=\"convertToInteractive('df-77cc2fdc-4b48-427d-9c45-107c4d0c6b7c')\"\n",
              "            title=\"Convert this dataframe to an interactive table.\"\n",
              "            style=\"display:none;\">\n",
              "\n",
              "  <svg xmlns=\"http://www.w3.org/2000/svg\" height=\"24px\" viewBox=\"0 -960 960 960\">\n",
              "    <path d=\"M120-120v-720h720v720H120Zm60-500h600v-160H180v160Zm220 220h160v-160H400v160Zm0 220h160v-160H400v160ZM180-400h160v-160H180v160Zm440 0h160v-160H620v160ZM180-180h160v-160H180v160Zm440 0h160v-160H620v160Z\"/>\n",
              "  </svg>\n",
              "    </button>\n",
              "\n",
              "  <style>\n",
              "    .colab-df-container {\n",
              "      display:flex;\n",
              "      gap: 12px;\n",
              "    }\n",
              "\n",
              "    .colab-df-convert {\n",
              "      background-color: #E8F0FE;\n",
              "      border: none;\n",
              "      border-radius: 50%;\n",
              "      cursor: pointer;\n",
              "      display: none;\n",
              "      fill: #1967D2;\n",
              "      height: 32px;\n",
              "      padding: 0 0 0 0;\n",
              "      width: 32px;\n",
              "    }\n",
              "\n",
              "    .colab-df-convert:hover {\n",
              "      background-color: #E2EBFA;\n",
              "      box-shadow: 0px 1px 2px rgba(60, 64, 67, 0.3), 0px 1px 3px 1px rgba(60, 64, 67, 0.15);\n",
              "      fill: #174EA6;\n",
              "    }\n",
              "\n",
              "    .colab-df-buttons div {\n",
              "      margin-bottom: 4px;\n",
              "    }\n",
              "\n",
              "    [theme=dark] .colab-df-convert {\n",
              "      background-color: #3B4455;\n",
              "      fill: #D2E3FC;\n",
              "    }\n",
              "\n",
              "    [theme=dark] .colab-df-convert:hover {\n",
              "      background-color: #434B5C;\n",
              "      box-shadow: 0px 1px 3px 1px rgba(0, 0, 0, 0.15);\n",
              "      filter: drop-shadow(0px 1px 2px rgba(0, 0, 0, 0.3));\n",
              "      fill: #FFFFFF;\n",
              "    }\n",
              "  </style>\n",
              "\n",
              "    <script>\n",
              "      const buttonEl =\n",
              "        document.querySelector('#df-77cc2fdc-4b48-427d-9c45-107c4d0c6b7c button.colab-df-convert');\n",
              "      buttonEl.style.display =\n",
              "        google.colab.kernel.accessAllowed ? 'block' : 'none';\n",
              "\n",
              "      async function convertToInteractive(key) {\n",
              "        const element = document.querySelector('#df-77cc2fdc-4b48-427d-9c45-107c4d0c6b7c');\n",
              "        const dataTable =\n",
              "          await google.colab.kernel.invokeFunction('convertToInteractive',\n",
              "                                                    [key], {});\n",
              "        if (!dataTable) return;\n",
              "\n",
              "        const docLinkHtml = 'Like what you see? Visit the ' +\n",
              "          '<a target=\"_blank\" href=https://colab.research.google.com/notebooks/data_table.ipynb>data table notebook</a>'\n",
              "          + ' to learn more about interactive tables.';\n",
              "        element.innerHTML = '';\n",
              "        dataTable['output_type'] = 'display_data';\n",
              "        await google.colab.output.renderOutput(dataTable, element);\n",
              "        const docLink = document.createElement('div');\n",
              "        docLink.innerHTML = docLinkHtml;\n",
              "        element.appendChild(docLink);\n",
              "      }\n",
              "    </script>\n",
              "  </div>\n",
              "\n",
              "\n",
              "<div id=\"df-b6e53240-4b99-4d40-83a5-85718ab5fa49\">\n",
              "  <button class=\"colab-df-quickchart\" onclick=\"quickchart('df-b6e53240-4b99-4d40-83a5-85718ab5fa49')\"\n",
              "            title=\"Suggest charts\"\n",
              "            style=\"display:none;\">\n",
              "\n",
              "<svg xmlns=\"http://www.w3.org/2000/svg\" height=\"24px\"viewBox=\"0 0 24 24\"\n",
              "     width=\"24px\">\n",
              "    <g>\n",
              "        <path d=\"M19 3H5c-1.1 0-2 .9-2 2v14c0 1.1.9 2 2 2h14c1.1 0 2-.9 2-2V5c0-1.1-.9-2-2-2zM9 17H7v-7h2v7zm4 0h-2V7h2v10zm4 0h-2v-4h2v4z\"/>\n",
              "    </g>\n",
              "</svg>\n",
              "  </button>\n",
              "\n",
              "<style>\n",
              "  .colab-df-quickchart {\n",
              "      --bg-color: #E8F0FE;\n",
              "      --fill-color: #1967D2;\n",
              "      --hover-bg-color: #E2EBFA;\n",
              "      --hover-fill-color: #174EA6;\n",
              "      --disabled-fill-color: #AAA;\n",
              "      --disabled-bg-color: #DDD;\n",
              "  }\n",
              "\n",
              "  [theme=dark] .colab-df-quickchart {\n",
              "      --bg-color: #3B4455;\n",
              "      --fill-color: #D2E3FC;\n",
              "      --hover-bg-color: #434B5C;\n",
              "      --hover-fill-color: #FFFFFF;\n",
              "      --disabled-bg-color: #3B4455;\n",
              "      --disabled-fill-color: #666;\n",
              "  }\n",
              "\n",
              "  .colab-df-quickchart {\n",
              "    background-color: var(--bg-color);\n",
              "    border: none;\n",
              "    border-radius: 50%;\n",
              "    cursor: pointer;\n",
              "    display: none;\n",
              "    fill: var(--fill-color);\n",
              "    height: 32px;\n",
              "    padding: 0;\n",
              "    width: 32px;\n",
              "  }\n",
              "\n",
              "  .colab-df-quickchart:hover {\n",
              "    background-color: var(--hover-bg-color);\n",
              "    box-shadow: 0 1px 2px rgba(60, 64, 67, 0.3), 0 1px 3px 1px rgba(60, 64, 67, 0.15);\n",
              "    fill: var(--button-hover-fill-color);\n",
              "  }\n",
              "\n",
              "  .colab-df-quickchart-complete:disabled,\n",
              "  .colab-df-quickchart-complete:disabled:hover {\n",
              "    background-color: var(--disabled-bg-color);\n",
              "    fill: var(--disabled-fill-color);\n",
              "    box-shadow: none;\n",
              "  }\n",
              "\n",
              "  .colab-df-spinner {\n",
              "    border: 2px solid var(--fill-color);\n",
              "    border-color: transparent;\n",
              "    border-bottom-color: var(--fill-color);\n",
              "    animation:\n",
              "      spin 1s steps(1) infinite;\n",
              "  }\n",
              "\n",
              "  @keyframes spin {\n",
              "    0% {\n",
              "      border-color: transparent;\n",
              "      border-bottom-color: var(--fill-color);\n",
              "      border-left-color: var(--fill-color);\n",
              "    }\n",
              "    20% {\n",
              "      border-color: transparent;\n",
              "      border-left-color: var(--fill-color);\n",
              "      border-top-color: var(--fill-color);\n",
              "    }\n",
              "    30% {\n",
              "      border-color: transparent;\n",
              "      border-left-color: var(--fill-color);\n",
              "      border-top-color: var(--fill-color);\n",
              "      border-right-color: var(--fill-color);\n",
              "    }\n",
              "    40% {\n",
              "      border-color: transparent;\n",
              "      border-right-color: var(--fill-color);\n",
              "      border-top-color: var(--fill-color);\n",
              "    }\n",
              "    60% {\n",
              "      border-color: transparent;\n",
              "      border-right-color: var(--fill-color);\n",
              "    }\n",
              "    80% {\n",
              "      border-color: transparent;\n",
              "      border-right-color: var(--fill-color);\n",
              "      border-bottom-color: var(--fill-color);\n",
              "    }\n",
              "    90% {\n",
              "      border-color: transparent;\n",
              "      border-bottom-color: var(--fill-color);\n",
              "    }\n",
              "  }\n",
              "</style>\n",
              "\n",
              "  <script>\n",
              "    async function quickchart(key) {\n",
              "      const quickchartButtonEl =\n",
              "        document.querySelector('#' + key + ' button');\n",
              "      quickchartButtonEl.disabled = true;  // To prevent multiple clicks.\n",
              "      quickchartButtonEl.classList.add('colab-df-spinner');\n",
              "      try {\n",
              "        const charts = await google.colab.kernel.invokeFunction(\n",
              "            'suggestCharts', [key], {});\n",
              "      } catch (error) {\n",
              "        console.error('Error during call to suggestCharts:', error);\n",
              "      }\n",
              "      quickchartButtonEl.classList.remove('colab-df-spinner');\n",
              "      quickchartButtonEl.classList.add('colab-df-quickchart-complete');\n",
              "    }\n",
              "    (() => {\n",
              "      let quickchartButtonEl =\n",
              "        document.querySelector('#df-b6e53240-4b99-4d40-83a5-85718ab5fa49 button');\n",
              "      quickchartButtonEl.style.display =\n",
              "        google.colab.kernel.accessAllowed ? 'block' : 'none';\n",
              "    })();\n",
              "  </script>\n",
              "</div>\n",
              "\n",
              "  <div id=\"id_90daab55-4d40-48d5-93d2-937ba61dd736\">\n",
              "    <style>\n",
              "      .colab-df-generate {\n",
              "        background-color: #E8F0FE;\n",
              "        border: none;\n",
              "        border-radius: 50%;\n",
              "        cursor: pointer;\n",
              "        display: none;\n",
              "        fill: #1967D2;\n",
              "        height: 32px;\n",
              "        padding: 0 0 0 0;\n",
              "        width: 32px;\n",
              "      }\n",
              "\n",
              "      .colab-df-generate:hover {\n",
              "        background-color: #E2EBFA;\n",
              "        box-shadow: 0px 1px 2px rgba(60, 64, 67, 0.3), 0px 1px 3px 1px rgba(60, 64, 67, 0.15);\n",
              "        fill: #174EA6;\n",
              "      }\n",
              "\n",
              "      [theme=dark] .colab-df-generate {\n",
              "        background-color: #3B4455;\n",
              "        fill: #D2E3FC;\n",
              "      }\n",
              "\n",
              "      [theme=dark] .colab-df-generate:hover {\n",
              "        background-color: #434B5C;\n",
              "        box-shadow: 0px 1px 3px 1px rgba(0, 0, 0, 0.15);\n",
              "        filter: drop-shadow(0px 1px 2px rgba(0, 0, 0, 0.3));\n",
              "        fill: #FFFFFF;\n",
              "      }\n",
              "    </style>\n",
              "    <button class=\"colab-df-generate\" onclick=\"generateWithVariable('df_ci')\"\n",
              "            title=\"Generate code using this dataframe.\"\n",
              "            style=\"display:none;\">\n",
              "\n",
              "  <svg xmlns=\"http://www.w3.org/2000/svg\" height=\"24px\"viewBox=\"0 0 24 24\"\n",
              "       width=\"24px\">\n",
              "    <path d=\"M7,19H8.4L18.45,9,17,7.55,7,17.6ZM5,21V16.75L18.45,3.32a2,2,0,0,1,2.83,0l1.4,1.43a1.91,1.91,0,0,1,.58,1.4,1.91,1.91,0,0,1-.58,1.4L9.25,21ZM18.45,9,17,7.55Zm-12,3A5.31,5.31,0,0,0,4.9,8.1,5.31,5.31,0,0,0,1,6.5,5.31,5.31,0,0,0,4.9,4.9,5.31,5.31,0,0,0,6.5,1,5.31,5.31,0,0,0,8.1,4.9,5.31,5.31,0,0,0,12,6.5,5.46,5.46,0,0,0,6.5,12Z\"/>\n",
              "  </svg>\n",
              "    </button>\n",
              "    <script>\n",
              "      (() => {\n",
              "      const buttonEl =\n",
              "        document.querySelector('#id_90daab55-4d40-48d5-93d2-937ba61dd736 button.colab-df-generate');\n",
              "      buttonEl.style.display =\n",
              "        google.colab.kernel.accessAllowed ? 'block' : 'none';\n",
              "\n",
              "      buttonEl.onclick = () => {\n",
              "        google.colab.notebook.generateWithVariable('df_ci');\n",
              "      }\n",
              "      })();\n",
              "    </script>\n",
              "  </div>\n",
              "\n",
              "    </div>\n",
              "  </div>\n"
            ],
            "application/vnd.google.colaboratory.intrinsic+json": {
              "type": "dataframe",
              "variable_name": "df_ci",
              "summary": "{\n  \"name\": \"df_ci\",\n  \"rows\": 17505,\n  \"fields\": [\n    {\n      \"column\": \"ID\",\n      \"properties\": {\n        \"dtype\": \"string\",\n        \"num_unique_values\": 17505,\n        \"samples\": [\n          \"2024_11_23_06_51_26_556\",\n          \"2024_11_17_22_13_07_340\",\n          \"2024_11_20_21_07_06_031\"\n        ],\n        \"semantic_type\": \"\",\n        \"description\": \"\"\n      }\n    },\n    {\n      \"column\": \"Cmd #\",\n      \"properties\": {\n        \"dtype\": \"number\",\n        \"std\": 1.1792880837218713,\n        \"min\": 0.0,\n        \"max\": 14.0,\n        \"num_unique_values\": 9,\n        \"samples\": [\n          14.0,\n          0.0,\n          3.0\n        ],\n        \"semantic_type\": \"\",\n        \"description\": \"\"\n      }\n    }\n  ]\n}"
            }
          },
          "metadata": {},
          "execution_count": 4
        }
      ]
    },
    {
      "cell_type": "markdown",
      "source": [
        "Parse keystrokes files one more time to get all commands."
      ],
      "metadata": {
        "id": "-_NfmKBHS80w"
      }
    },
    {
      "cell_type": "code",
      "source": [
        "def parse_cmd(zip_directory, df_ci):\n",
        "  for filename in os.listdir(zip_directory):\n",
        "      if filename.endswith('.zip'):\n",
        "          zip_path = os.path.join(zip_directory, filename)\n",
        "          # Unzip the zip file as 'arc'\n",
        "          with zipfile.ZipFile(zip_path, 'r') as arc:\n",
        "            # Get one attacker instance to add to dataframe\n",
        "            for file in arc.namelist():\n",
        "              if file.startswith(\"keystrokes/\"):\n",
        "                log = arc.open(file)\n",
        "                log_data = log.read().decode('utf-8').strip()\n",
        "                log_data_lines = log_data.splitlines()\n",
        "                file = file[11:-4]\n",
        "                # Noninteractive and interactive regex patterns\n",
        "                #\n",
        "                # THIS MAY NOT BE RIGHT!!!\n",
        "                # CHANGELOG 1: Added additional cmd check for semicolons\n",
        "                # Add check for escaped semicolons?\n",
        "                #\n",
        "                noninteractive_pattern_c = r'^\\d{4}-\\d{2}-\\d{2} \\d{2}:\\d{2}:\\d{2}\\.\\d+ \\[Noninteractive Mode\\] (.*)'\n",
        "                interactive_pattern_c = r'^\\d{4}-\\d{2}-\\d{2} \\d{2}:\\d{2}:\\d{2}\\.\\d+ \\[Full Line Parsed\\] (.*)'\n",
        "                cn = 0\n",
        "                for line in log_data_lines:\n",
        "                  xim = re.match(noninteractive_pattern_c, line)\n",
        "                  im = re.match(interactive_pattern_c, line)\n",
        "                  if xim or im:\n",
        "                    matched = xim if xim else im\n",
        "                    # cmds = [cmd for cmd in line.split(\"]\")[1].split(\";\") if cmd.strip()]\n",
        "                    cmds = [cmd for cmd in matched.group(1).split(\";\") if cmd.strip()]\n",
        "                    # noarg = [cmd.split(\"\\\\s+\")[0] for cmd in cmds]\n",
        "                    for cmd in cmds:\n",
        "                      if cmd not in df_ci.columns:\n",
        "                        df_ci[cmd] = 0\n",
        "                        df_ci = df_ci.copy()\n",
        "                      if file in df_ci.index:\n",
        "                        df_ci.at[file, cmd] += 1\n",
        "  return df_ci\n",
        "\n",
        "\n",
        "\n",
        "if len(df_ci.columns) <= 2:\n",
        "  for zip_directory in zip_directories:\n",
        "    df_ci = parse_cmd(zip_directory, df_ci)\n",
        "print(len(df_ci))\n",
        "print(df_ci)\n",
        "\n",
        "# Save parsed commands to drive\n",
        "df_ci.to_csv(os.path.join(csv_directory, \"commands.csv\"), index=False)"
      ],
      "metadata": {
        "colab": {
          "base_uri": "https://localhost:8080/"
        },
        "id": "Jzm-fR51n_1l",
        "outputId": "e349a4c0-6f5b-4e6e-9f34-45e96e1ad35b"
      },
      "execution_count": null,
      "outputs": [
        {
          "output_type": "stream",
          "name": "stdout",
          "text": [
            "17505\n",
            "                         Cmd #  uname -s -v -n -r -m  uname -a  \\\n",
            "ID                                                               \n",
            "2024_10_26_20_03_52_066    1.0                     1         0   \n",
            "2024_10_26_20_15_54_221    1.0                     1         0   \n",
            "2024_10_26_20_06_00_813    1.0                     1         0   \n",
            "2024_10_26_20_24_09_789    1.0                     1         0   \n",
            "2024_10_26_20_21_55_140    1.0                     1         0   \n",
            "...                        ...                   ...       ...   \n",
            "2024_11_24_05_28_32_041    3.0                     0         0   \n",
            "2024_11_24_15_59_32_923    3.0                     0         0   \n",
            "2024_11_24_02_06_21_978    3.0                     0         0   \n",
            "2024_11_24_02_23_42_266    3.0                     0         0   \n",
            "2024_11_23_22_13_35_433    3.0                     0         0   \n",
            "\n",
            "                         sudo hive-passwd set ifjeeisurofmioufiose  \\\n",
            "ID                                                                   \n",
            "2024_10_26_20_03_52_066                                          0   \n",
            "2024_10_26_20_15_54_221                                          0   \n",
            "2024_10_26_20_06_00_813                                          0   \n",
            "2024_10_26_20_24_09_789                                          0   \n",
            "2024_10_26_20_21_55_140                                          0   \n",
            "...                                                            ...   \n",
            "2024_11_24_05_28_32_041                                          0   \n",
            "2024_11_24_15_59_32_923                                          0   \n",
            "2024_11_24_02_06_21_978                                          0   \n",
            "2024_11_24_02_23_42_266                                          0   \n",
            "2024_11_23_22_13_35_433                                          0   \n",
            "\n",
            "                          sudo hive-passwd ifjeeisurofmioufiose   pkill Xorg  \\\n",
            "ID                                                                             \n",
            "2024_10_26_20_03_52_066                                       0            0   \n",
            "2024_10_26_20_15_54_221                                       0            0   \n",
            "2024_10_26_20_06_00_813                                       0            0   \n",
            "2024_10_26_20_24_09_789                                       0            0   \n",
            "2024_10_26_20_21_55_140                                       0            0   \n",
            "...                                                         ...          ...   \n",
            "2024_11_24_05_28_32_041                                       0            0   \n",
            "2024_11_24_15_59_32_923                                       0            0   \n",
            "2024_11_24_02_06_21_978                                       0            0   \n",
            "2024_11_24_02_23_42_266                                       0            0   \n",
            "2024_11_23_22_13_35_433                                       0            0   \n",
            "\n",
            "                          pkill x11vnc   pkill Hello  \\\n",
            "ID                                                     \n",
            "2024_10_26_20_03_52_066              0             0   \n",
            "2024_10_26_20_15_54_221              0             0   \n",
            "2024_10_26_20_06_00_813              0             0   \n",
            "2024_10_26_20_24_09_789              0             0   \n",
            "2024_10_26_20_21_55_140              0             0   \n",
            "...                                ...           ...   \n",
            "2024_11_24_05_28_32_041              0             0   \n",
            "2024_11_24_15_59_32_923              0             0   \n",
            "2024_11_24_02_06_21_978              0             0   \n",
            "2024_11_24_02_23_42_266              0             0   \n",
            "2024_11_23_22_13_35_433              0             0   \n",
            "\n",
            "                          systemctl stop shellinabox   history -c  ...  \\\n",
            "ID                                                                 ...   \n",
            "2024_10_26_20_03_52_066                            0            0  ...   \n",
            "2024_10_26_20_15_54_221                            0            0  ...   \n",
            "2024_10_26_20_06_00_813                            0            0  ...   \n",
            "2024_10_26_20_24_09_789                            0            0  ...   \n",
            "2024_10_26_20_21_55_140                            0            0  ...   \n",
            "...                                              ...          ...  ...   \n",
            "2024_11_24_05_28_32_041                            0            0  ...   \n",
            "2024_11_24_15_59_32_923                            0            0  ...   \n",
            "2024_11_24_02_06_21_978                            0            0  ...   \n",
            "2024_11_24_02_23_42_266                            0            0  ...   \n",
            "2024_11_23_22_13_35_433                            0            0  ...   \n",
            "\n",
            "                         scp -t /tmp/b1qZzx22  scp -t /tmp/DAoN5OMj  \\\n",
            "ID                                                                    \n",
            "2024_10_26_20_03_52_066                     0                     0   \n",
            "2024_10_26_20_15_54_221                     0                     0   \n",
            "2024_10_26_20_06_00_813                     0                     0   \n",
            "2024_10_26_20_24_09_789                     0                     0   \n",
            "2024_10_26_20_21_55_140                     0                     0   \n",
            "...                                       ...                   ...   \n",
            "2024_11_24_05_28_32_041                     0                     0   \n",
            "2024_11_24_15_59_32_923                     0                     0   \n",
            "2024_11_24_02_06_21_978                     0                     0   \n",
            "2024_11_24_02_23_42_266                     0                     0   \n",
            "2024_11_23_22_13_35_433                     0                     0   \n",
            "\n",
            "                         scp -t /tmp/rlLUOWFC  cd ..  ls  cd Fak\\t  \\\n",
            "ID                                                                   \n",
            "2024_10_26_20_03_52_066                     0      0   0         0   \n",
            "2024_10_26_20_15_54_221                     0      0   0         0   \n",
            "2024_10_26_20_06_00_813                     0      0   0         0   \n",
            "2024_10_26_20_24_09_789                     0      0   0         0   \n",
            "2024_10_26_20_21_55_140                     0      0   0         0   \n",
            "...                                       ...    ...  ..       ...   \n",
            "2024_11_24_05_28_32_041                     0      0   0         0   \n",
            "2024_11_24_15_59_32_923                     0      0   0         0   \n",
            "2024_11_24_02_06_21_978                     0      0   0         0   \n",
            "2024_11_24_02_23_42_266                     0      0   0         0   \n",
            "2024_11_23_22_13_35_433                     0      0   0         0   \n",
            "\n",
            "                         scp -t /tmp/XqzbYEpf  scp -t /tmp/gXTniWht  \\\n",
            "ID                                                                    \n",
            "2024_10_26_20_03_52_066                     0                     0   \n",
            "2024_10_26_20_15_54_221                     0                     0   \n",
            "2024_10_26_20_06_00_813                     0                     0   \n",
            "2024_10_26_20_24_09_789                     0                     0   \n",
            "2024_10_26_20_21_55_140                     0                     0   \n",
            "...                                       ...                   ...   \n",
            "2024_11_24_05_28_32_041                     0                     0   \n",
            "2024_11_24_15_59_32_923                     0                     0   \n",
            "2024_11_24_02_06_21_978                     0                     0   \n",
            "2024_11_24_02_23_42_266                     0                     0   \n",
            "2024_11_23_22_13_35_433                     0                     0   \n",
            "\n",
            "                         scp -t /tmp/ZzKcobgk  scp -t /tmp/D4nvajwG  \n",
            "ID                                                                   \n",
            "2024_10_26_20_03_52_066                     0                     0  \n",
            "2024_10_26_20_15_54_221                     0                     0  \n",
            "2024_10_26_20_06_00_813                     0                     0  \n",
            "2024_10_26_20_24_09_789                     0                     0  \n",
            "2024_10_26_20_21_55_140                     0                     0  \n",
            "...                                       ...                   ...  \n",
            "2024_11_24_05_28_32_041                     0                     0  \n",
            "2024_11_24_15_59_32_923                     0                     0  \n",
            "2024_11_24_02_06_21_978                     0                     0  \n",
            "2024_11_24_02_23_42_266                     0                     0  \n",
            "2024_11_23_22_13_35_433                     0                     0  \n",
            "\n",
            "[17505 rows x 138 columns]\n"
          ]
        }
      ]
    },
    {
      "cell_type": "markdown",
      "source": [
        "# Validate/Clean Data"
      ],
      "metadata": {
        "id": "8bpZ_917M5i9"
      }
    },
    {
      "cell_type": "markdown",
      "source": [
        "Perform some preliminary data validity checks before mutating the data."
      ],
      "metadata": {
        "id": "-F2ZHWYrG_AM"
      }
    },
    {
      "cell_type": "code",
      "source": [
        "# Nothing should be removed from this cleaning step\n",
        "#\n",
        "# Tell me if number of rows in df_ui above and df_uic below are not equal (some invalids atm)\n",
        "#\n",
        "df_uic = df_ui[df_ui[\"IP In\"] == df_ui[\"IP Out\"]]\n",
        "# df_uic = df_uic[df_uic[\"IP In\"] == df_uic[\"Auth IP\"]]\n",
        "df_uic = df_uic[df_uic[\"ID In\"] == df_uic[\"ID Out\"]]\n",
        "df_uic = df_uic.drop(columns=[\"IP Out\", \"ID Out\"])\n",
        "df_uic = df_uic.rename(columns={\"IP In\": \"IP\", \"ID In\": \"ID\"})\n",
        "# df_uic.drop_duplicates(inplace=True)\n",
        "print(len(df_uic))\n",
        "print(df_uic)"
      ],
      "metadata": {
        "colab": {
          "base_uri": "https://localhost:8080/"
        },
        "id": "YJ53AaJ_CAqY",
        "outputId": "64df745d-f0ce-4910-f7ec-3e38d3d67505"
      },
      "execution_count": null,
      "outputs": [
        {
          "output_type": "stream",
          "name": "stdout",
          "text": [
            "23927\n",
            "   HPt # Pwd Str Atk #                    Login             IP  \\\n",
            "0      2  Medium   452  2024-10-26 20:03:52.066  152.42.139.72   \n",
            "0      2    Weak   455  2024-10-26 20:15:54.221  152.42.139.72   \n",
            "0      2    Weak   453  2024-10-26 20:06:00.813  152.42.250.74   \n",
            "0      2    None   458  2024-10-26 20:24:09.789  152.42.250.74   \n",
            "0      2    High   457  2024-10-26 20:21:55.140  152.42.139.72   \n",
            "..   ...     ...   ...                      ...            ...   \n",
            "0      5    Weak  3040                       NA             NA   \n",
            "0      5  Medium  2936                       NA             NA   \n",
            "0      5  Medium  2957                       NA             NA   \n",
            "0      5    Weak  2841                       NA             NA   \n",
            "0      5    None  2862  2024-11-23 22:13:35.433  180.153.91.15   \n",
            "\n",
            "                         ID                   Logout Auth #  \\\n",
            "0   2024_10_26_20_03_52_066  2024-10-26 20:03:52.809      1   \n",
            "0   2024_10_26_20_15_54_221  2024-10-26 20:15:54.970      1   \n",
            "0   2024_10_26_20_06_00_813  2024-10-26 20:06:02.732      1   \n",
            "0   2024_10_26_20_24_09_789  2024-10-26 20:24:11.722      1   \n",
            "0   2024_10_26_20_21_55_140  2024-10-26 20:21:55.903      1   \n",
            "..                      ...                      ...    ...   \n",
            "0                        NA                       NA      2   \n",
            "0                        NA                       NA      2   \n",
            "0                        NA                       NA      2   \n",
            "0                        NA                       NA      3   \n",
            "0   2024_11_23_22_13_35_433  2024-11-23 22:13:44.382      3   \n",
            "\n",
            "                 Auth Start                 Auth End        Auth IP Cmd #  \n",
            "0   2024-10-26 20:03:51.713  2024-10-26 20:03:51.713  152.42.139.72     1  \n",
            "0   2024-10-26 20:15:54.030  2024-10-26 20:15:54.030  152.42.139.72     1  \n",
            "0   2024-10-26 20:06:00.600  2024-10-26 20:06:00.600  152.42.250.74     1  \n",
            "0   2024-10-26 20:24:09.572  2024-10-26 20:24:09.572  152.42.250.74     1  \n",
            "0   2024-10-26 20:21:54.943  2024-10-26 20:21:54.943  152.42.139.72     1  \n",
            "..                      ...                      ...            ...   ...  \n",
            "0   2024-11-24 16:17:52.478  2024-11-24 16:21:28.050  170.64.153.46    NA  \n",
            "0   2024-11-24 05:54:41.314  2024-11-24 05:58:18.783  170.64.153.46    NA  \n",
            "0   2024-11-24 08:28:25.931  2024-11-24 08:32:02.846  170.64.153.46    NA  \n",
            "0   2024-11-23 18:38:13.727  2024-11-23 18:42:54.132  210.164.66.48    NA  \n",
            "0   2024-11-23 22:13:35.126  2024-11-23 22:13:43.502  180.153.91.15     3  \n",
            "\n",
            "[23927 rows x 12 columns]\n"
          ]
        }
      ]
    },
    {
      "cell_type": "markdown",
      "source": [
        "Add columns to the dataframe for time logged in, time authenticating, and total time."
      ],
      "metadata": {
        "id": "3F9odG2PHfMa"
      }
    },
    {
      "cell_type": "code",
      "source": [
        "df_uic[\"Login\"] = pd.to_datetime(df_uic[\"Login\"], format=\"%Y-%m-%d %H:%M:%S.%f\", errors=\"coerce\")\n",
        "df_uic[\"Logout\"] = pd.to_datetime(df_uic[\"Logout\"], format=\"%Y-%m-%d %H:%M:%S.%f\", errors=\"coerce\")\n",
        "df_uic[\"Auth Start\"] = pd.to_datetime(df_uic[\"Auth Start\"], format=\"%Y-%m-%d %H:%M:%S.%f\", errors=\"coerce\")\n",
        "df_uic[\"Auth End\"] = pd.to_datetime(df_uic[\"Auth End\"], format=\"%Y-%m-%d %H:%M:%S.%f\", errors=\"coerce\")\n",
        "df_uic[\"Time Logged In (s)\"] = df_uic.apply(\n",
        "    lambda row: (row[\"Logout\"] - row[\"Login\"]).total_seconds() if pd.notna(row[\"Login\"]) and pd.notna(row[\"Logout\"]) else \"NA\",\n",
        "    axis=1\n",
        ")\n",
        "df_uic[\"Time Auth (s)\"] = df_uic.apply(\n",
        "    lambda row: (row[\"Auth End\"] - row[\"Auth Start\"]).total_seconds() if pd.notna(row[\"Auth Start\"]) and pd.notna(row[\"Auth End\"]) else \"NA\",\n",
        "    axis=1\n",
        ")\n",
        "df_uic[\"Total Time (s)\"] = df_uic.apply(\n",
        "    lambda row: (row[\"Logout\"] - row[\"Auth Start\"]).total_seconds() if pd.notna(row[\"Auth Start\"]) and pd.notna(row[\"Logout\"]) else \"NA\",\n",
        "    axis=1\n",
        ")\n",
        "print(df_uic)"
      ],
      "metadata": {
        "colab": {
          "base_uri": "https://localhost:8080/"
        },
        "id": "LkmJRGUEHTzW",
        "outputId": "f2dabfc2-49ea-4af6-93c1-4324cf68bdb5"
      },
      "execution_count": null,
      "outputs": [
        {
          "output_type": "stream",
          "name": "stdout",
          "text": [
            "   HPt # Pwd Str Atk #                   Login             IP  \\\n",
            "0      2  Medium   452 2024-10-26 20:03:52.066  152.42.139.72   \n",
            "0      2    Weak   455 2024-10-26 20:15:54.221  152.42.139.72   \n",
            "0      2    Weak   453 2024-10-26 20:06:00.813  152.42.250.74   \n",
            "0      2    None   458 2024-10-26 20:24:09.789  152.42.250.74   \n",
            "0      2    High   457 2024-10-26 20:21:55.140  152.42.139.72   \n",
            "..   ...     ...   ...                     ...            ...   \n",
            "0      5    Weak  3040                     NaT             NA   \n",
            "0      5  Medium  2936                     NaT             NA   \n",
            "0      5  Medium  2957                     NaT             NA   \n",
            "0      5    Weak  2841                     NaT             NA   \n",
            "0      5    None  2862 2024-11-23 22:13:35.433  180.153.91.15   \n",
            "\n",
            "                         ID                  Logout Auth #  \\\n",
            "0   2024_10_26_20_03_52_066 2024-10-26 20:03:52.809      1   \n",
            "0   2024_10_26_20_15_54_221 2024-10-26 20:15:54.970      1   \n",
            "0   2024_10_26_20_06_00_813 2024-10-26 20:06:02.732      1   \n",
            "0   2024_10_26_20_24_09_789 2024-10-26 20:24:11.722      1   \n",
            "0   2024_10_26_20_21_55_140 2024-10-26 20:21:55.903      1   \n",
            "..                      ...                     ...    ...   \n",
            "0                        NA                     NaT      2   \n",
            "0                        NA                     NaT      2   \n",
            "0                        NA                     NaT      2   \n",
            "0                        NA                     NaT      3   \n",
            "0   2024_11_23_22_13_35_433 2024-11-23 22:13:44.382      3   \n",
            "\n",
            "                Auth Start                Auth End        Auth IP Cmd #  \\\n",
            "0  2024-10-26 20:03:51.713 2024-10-26 20:03:51.713  152.42.139.72     1   \n",
            "0  2024-10-26 20:15:54.030 2024-10-26 20:15:54.030  152.42.139.72     1   \n",
            "0  2024-10-26 20:06:00.600 2024-10-26 20:06:00.600  152.42.250.74     1   \n",
            "0  2024-10-26 20:24:09.572 2024-10-26 20:24:09.572  152.42.250.74     1   \n",
            "0  2024-10-26 20:21:54.943 2024-10-26 20:21:54.943  152.42.139.72     1   \n",
            "..                     ...                     ...            ...   ...   \n",
            "0  2024-11-24 16:17:52.478 2024-11-24 16:21:28.050  170.64.153.46    NA   \n",
            "0  2024-11-24 05:54:41.314 2024-11-24 05:58:18.783  170.64.153.46    NA   \n",
            "0  2024-11-24 08:28:25.931 2024-11-24 08:32:02.846  170.64.153.46    NA   \n",
            "0  2024-11-23 18:38:13.727 2024-11-23 18:42:54.132  210.164.66.48    NA   \n",
            "0  2024-11-23 22:13:35.126 2024-11-23 22:13:43.502  180.153.91.15     3   \n",
            "\n",
            "   Time Logged In (s) Time Auth (s) Total Time (s)  \n",
            "0               0.743           0.0          1.096  \n",
            "0               0.749           0.0           0.94  \n",
            "0               1.919           0.0          2.132  \n",
            "0               1.933           0.0           2.15  \n",
            "0               0.763           0.0           0.96  \n",
            "..                ...           ...            ...  \n",
            "0                  NA       215.572             NA  \n",
            "0                  NA       217.469             NA  \n",
            "0                  NA       216.915             NA  \n",
            "0                  NA       280.405             NA  \n",
            "0               8.949         8.376          9.256  \n",
            "\n",
            "[23927 rows x 15 columns]\n"
          ]
        }
      ]
    },
    {
      "cell_type": "markdown",
      "source": [
        "Add additional cleaning steps below!!!\n",
        "\n",
        "*   ~~Filter out duplicate IPs~~\n",
        "*   Filter out testing IP (DONE)\n",
        "*   Remove all entries with no login (DONE)\n",
        "*   Get number of cd commands (No cd so far)\n",
        "*   Mark bot activity (uname only)\n",
        "*   etc."
      ],
      "metadata": {
        "id": "9KmXX07A1Hco"
      }
    },
    {
      "cell_type": "code",
      "source": [
        "# TODO\n",
        "# Filter out the testing IP\n",
        "df_uid = df_uic[df_uic[\"IP\"] != \"10.172.195.4\"]\n",
        "# Remove invalid entries\n",
        "# df_uif = df_uif[df_uic[\"Total Time (s)\"] != \"NA\"]\n",
        "# Remove people who were not able to log in\n",
        "# df_uif = df_uif[df_uic[\"Time Logged In (s)\"] != \"NA\"]\n",
        "print(len(df_uid))\n",
        "df_uid.to_csv(os.path.join(csv_directory, \"cleaned.csv\"), index=False)"
      ],
      "metadata": {
        "id": "EPYLgViS1Koh",
        "colab": {
          "base_uri": "https://localhost:8080/"
        },
        "outputId": "b5f40a46-da9c-4e93-a8b6-4d4981c46f12"
      },
      "execution_count": null,
      "outputs": [
        {
          "output_type": "stream",
          "name": "stdout",
          "text": [
            "23919\n"
          ]
        }
      ]
    },
    {
      "cell_type": "markdown",
      "source": [
        "# Testing"
      ],
      "metadata": {
        "id": "B62hE20jzm0n"
      }
    },
    {
      "cell_type": "markdown",
      "source": [
        "Used to testing contents of dataframes."
      ],
      "metadata": {
        "id": "1-BIOBVFzoBN"
      }
    },
    {
      "cell_type": "code",
      "source": [],
      "metadata": {
        "id": "NeSQzyNYzoY2"
      },
      "execution_count": null,
      "outputs": []
    }
  ]
}